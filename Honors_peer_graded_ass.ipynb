{
 "cells": [
  {
   "cell_type": "code",
   "execution_count": 1,
   "id": "d6af686d-18e8-408f-a2ed-baaeae2395f2",
   "metadata": {},
   "outputs": [
    {
     "name": "stdout",
     "output_type": "stream",
     "text": [
      "Requirement already satisfied: sqlalchemy==1.3.9 in c:\\users\\lokti\\anaconda3\\envs\\ibm_sql_db_for_ds\\lib\\site-packages (1.3.9)\n",
      "Requirement already satisfied: ibm_db_sa in c:\\users\\lokti\\anaconda3\\envs\\ibm_sql_db_for_ds\\lib\\site-packages (0.3.7)\n",
      "Requirement already satisfied: ibm-db>=2.0.0 in c:\\users\\lokti\\anaconda3\\envs\\ibm_sql_db_for_ds\\lib\\site-packages (from ibm_db_sa) (3.1.0)\n",
      "Requirement already satisfied: sqlalchemy>=0.7.3 in c:\\users\\lokti\\anaconda3\\envs\\ibm_sql_db_for_ds\\lib\\site-packages (from ibm_db_sa) (1.3.9)\n"
     ]
    }
   ],
   "source": [
    "!pip install sqlalchemy==1.3.9\n",
    "!pip install ibm_db_sa"
   ]
  },
  {
   "cell_type": "code",
   "execution_count": 2,
   "id": "d92d6108-4693-4071-9be0-eb8cfa806965",
   "metadata": {},
   "outputs": [],
   "source": [
    "%load_ext sql"
   ]
  },
  {
   "cell_type": "code",
   "execution_count": 3,
   "id": "8ee83ae3-03e7-4f4b-a106-ecba594eed05",
   "metadata": {},
   "outputs": [],
   "source": [
    "%sql ibm_db_sa://ylg89839:juFr8vgUo7ILSTyg@815fa4db-dc03-4c70-869a-a9cc13f33084.bs2io90l08kqb1od8lcg.databases.appdomain.cloud:30367/BLUDB?security=SSL"
   ]
  },
  {
   "cell_type": "code",
   "execution_count": 4,
   "id": "f0e0c848-8cb2-4cc2-b15d-cc37550b5a78",
   "metadata": {},
   "outputs": [],
   "source": [
    "#Using Joins"
   ]
  },
  {
   "cell_type": "code",
   "execution_count": 5,
   "id": "708ba873-0856-4562-9136-39f8fd1d2bf9",
   "metadata": {},
   "outputs": [
    {
     "name": "stdout",
     "output_type": "stream",
     "text": [
      " * ibm_db_sa://ylg89839:***@815fa4db-dc03-4c70-869a-a9cc13f33084.bs2io90l08kqb1od8lcg.databases.appdomain.cloud:30367/BLUDB\n",
      "Done.\n"
     ]
    },
    {
     "data": {
      "text/html": [
       "<table>\n",
       "    <tr>\n",
       "        <th>school_id</th>\n",
       "        <th>name_of_school</th>\n",
       "        <th>Elementary, Middle, or High School</th>\n",
       "        <th>street_address</th>\n",
       "        <th>city</th>\n",
       "        <th>state</th>\n",
       "        <th>zip_code</th>\n",
       "        <th>phone_number</th>\n",
       "        <th>link</th>\n",
       "        <th>network_manager</th>\n",
       "        <th>collaborative_name</th>\n",
       "        <th>adequate_yearly_progress_made_</th>\n",
       "        <th>track_schedule</th>\n",
       "        <th>cps_performance_policy_status</th>\n",
       "        <th>cps_performance_policy_level</th>\n",
       "        <th>healthy_school_certified</th>\n",
       "        <th>safety_icon</th>\n",
       "        <th>safety_score</th>\n",
       "        <th>family_involvement_icon</th>\n",
       "        <th>family_involvement_score</th>\n",
       "        <th>environment_icon</th>\n",
       "        <th>environment_score</th>\n",
       "        <th>instruction_icon</th>\n",
       "        <th>instruction_score</th>\n",
       "        <th>leaders_icon</th>\n",
       "        <th>leaders_score</th>\n",
       "        <th>teachers_icon</th>\n",
       "        <th>teachers_score</th>\n",
       "        <th>parent_engagement_icon</th>\n",
       "        <th>parent_engagement_score</th>\n",
       "        <th>parent_environment_icon</th>\n",
       "        <th>parent_environment_score</th>\n",
       "        <th>average_student_attendance</th>\n",
       "        <th>rate_of_misconducts__per_100_students_</th>\n",
       "        <th>average_teacher_attendance</th>\n",
       "        <th>individualized_education_program_compliance_rate</th>\n",
       "        <th>pk_2_literacy__</th>\n",
       "        <th>pk_2_math__</th>\n",
       "        <th>gr3_5_grade_level_math__</th>\n",
       "        <th>gr3_5_grade_level_read__</th>\n",
       "        <th>gr3_5_keep_pace_read__</th>\n",
       "        <th>gr3_5_keep_pace_math__</th>\n",
       "        <th>gr6_8_grade_level_math__</th>\n",
       "        <th>gr6_8_grade_level_read__</th>\n",
       "        <th>gr6_8_keep_pace_math_</th>\n",
       "        <th>gr6_8_keep_pace_read__</th>\n",
       "        <th>gr_8_explore_math__</th>\n",
       "        <th>gr_8_explore_read__</th>\n",
       "        <th>isat_exceeding_math__</th>\n",
       "        <th>isat_exceeding_reading__</th>\n",
       "        <th>isat_value_add_math</th>\n",
       "        <th>isat_value_add_read</th>\n",
       "        <th>isat_value_add_color_math</th>\n",
       "        <th>isat_value_add_color_read</th>\n",
       "        <th>students_taking__algebra__</th>\n",
       "        <th>students_passing__algebra__</th>\n",
       "        <th>9th Grade EXPLORE (2009)</th>\n",
       "        <th>9th Grade EXPLORE (2010)</th>\n",
       "        <th>10th Grade PLAN (2009)</th>\n",
       "        <th>10th Grade PLAN (2010)</th>\n",
       "        <th>net_change_explore_and_plan</th>\n",
       "        <th>11th Grade Average ACT (2011)</th>\n",
       "        <th>net_change_plan_and_act</th>\n",
       "        <th>college_eligibility__</th>\n",
       "        <th>graduation_rate__</th>\n",
       "        <th>college_enrollment_rate__</th>\n",
       "        <th>college_enrollment</th>\n",
       "        <th>general_services_route</th>\n",
       "        <th>freshman_on_track_rate__</th>\n",
       "        <th>x_coordinate</th>\n",
       "        <th>y_coordinate</th>\n",
       "        <th>latitude</th>\n",
       "        <th>longitude</th>\n",
       "        <th>community_area_number</th>\n",
       "        <th>community_area_name</th>\n",
       "        <th>ward</th>\n",
       "        <th>police_district</th>\n",
       "        <th>location</th>\n",
       "    </tr>\n",
       "    <tr>\n",
       "        <td>610038</td>\n",
       "        <td>Abraham Lincoln Elementary School</td>\n",
       "        <td>ES</td>\n",
       "        <td>615 W Kemper Pl</td>\n",
       "        <td>Chicago</td>\n",
       "        <td>IL</td>\n",
       "        <td>60614</td>\n",
       "        <td>(773) 534-5720</td>\n",
       "        <td>http://schoolreports.cps.edu/SchoolProgressReport_Eng/Spring2011Eng_610038.pdf</td>\n",
       "        <td>Fullerton Elementary Network</td>\n",
       "        <td>NORTH-NORTHWEST SIDE COLLABORATIVE</td>\n",
       "        <td>No</td>\n",
       "        <td>Standard</td>\n",
       "        <td>Not on Probation</td>\n",
       "        <td>Level 1</td>\n",
       "        <td>Yes</td>\n",
       "        <td>Very Strong</td>\n",
       "        <td>99</td>\n",
       "        <td>Very Strong</td>\n",
       "        <td>99</td>\n",
       "        <td>Strong</td>\n",
       "        <td>74</td>\n",
       "        <td>Strong</td>\n",
       "        <td>66</td>\n",
       "        <td>Weak</td>\n",
       "        <td>65</td>\n",
       "        <td>Strong</td>\n",
       "        <td>70</td>\n",
       "        <td>Strong</td>\n",
       "        <td>56</td>\n",
       "        <td>Average</td>\n",
       "        <td>47</td>\n",
       "        <td>96.00%</td>\n",
       "        <td>2.0</td>\n",
       "        <td>96.40%</td>\n",
       "        <td>95.80%</td>\n",
       "        <td>80.1</td>\n",
       "        <td>43.3</td>\n",
       "        <td>89.6</td>\n",
       "        <td>84.9</td>\n",
       "        <td>60.7</td>\n",
       "        <td>62.6</td>\n",
       "        <td>81.9</td>\n",
       "        <td>85.2</td>\n",
       "        <td>52</td>\n",
       "        <td>62.4</td>\n",
       "        <td>66.3</td>\n",
       "        <td>77.9</td>\n",
       "        <td>69.7</td>\n",
       "        <td>64.4</td>\n",
       "        <td>0.2</td>\n",
       "        <td>0.9</td>\n",
       "        <td>Yellow</td>\n",
       "        <td>Green</td>\n",
       "        <td>67.1</td>\n",
       "        <td>54.5</td>\n",
       "        <td>NDA</td>\n",
       "        <td>NDA</td>\n",
       "        <td>NDA</td>\n",
       "        <td>NDA</td>\n",
       "        <td>NDA</td>\n",
       "        <td>NDA</td>\n",
       "        <td>NDA</td>\n",
       "        <td>NDA</td>\n",
       "        <td>NDA</td>\n",
       "        <td>NDA</td>\n",
       "        <td>813</td>\n",
       "        <td>33</td>\n",
       "        <td>NDA</td>\n",
       "        <td>1171699.458</td>\n",
       "        <td>1915829.428</td>\n",
       "        <td>41.92449696</td>\n",
       "        <td>-87.64452163</td>\n",
       "        <td>7</td>\n",
       "        <td>LINCOLN PARK</td>\n",
       "        <td>43</td>\n",
       "        <td>18</td>\n",
       "        <td>(41.92449696, -87.64452163)</td>\n",
       "    </tr>\n",
       "</table>"
      ],
      "text/plain": [
       "[(610038, 'Abraham Lincoln Elementary School', 'ES', '615 W Kemper Pl', 'Chicago', 'IL', 60614, '(773) 534-5720', 'http://schoolreports.cps.edu/SchoolProgressReport_Eng/Spring2011Eng_610038.pdf', 'Fullerton Elementary Network', 'NORTH-NORTHWEST SIDE COLLABORATIVE', 'No', 'Standard', 'Not on Probation', 'Level 1', 'Yes', 'Very Strong', 99, 'Very Strong', '99', 'Strong', 74, 'Strong', 66, 'Weak', '65', 'Strong', '70', 'Strong', '56', 'Average', '47', '96.00%', Decimal('2.0'), '96.40%', '95.80%', '80.1', '43.3', '89.6', '84.9', '60.7', '62.6', '81.9', '85.2', '52', '62.4', '66.3', '77.9', Decimal('69.7'), Decimal('64.4'), Decimal('0.2'), Decimal('0.9'), 'Yellow', 'Green', '67.1', '54.5', 'NDA', 'NDA', 'NDA', 'NDA', 'NDA', 'NDA', 'NDA', 'NDA', 'NDA', 'NDA', 813, 33, 'NDA', Decimal('1171699.458'), Decimal('1915829.428'), Decimal('41.92449696'), Decimal('-87.64452163'), 7, 'LINCOLN PARK', 43, 18, '(41.92449696, -87.64452163)')]"
      ]
     },
     "execution_count": 5,
     "metadata": {},
     "output_type": "execute_result"
    }
   ],
   "source": [
    "%%sql\n",
    "select * from SCHOOL limit 1\n"
   ]
  },
  {
   "cell_type": "code",
   "execution_count": 6,
   "id": "23f817bb-80e5-42c7-962b-48a11046f8a0",
   "metadata": {},
   "outputs": [
    {
     "name": "stdout",
     "output_type": "stream",
     "text": [
      " * ibm_db_sa://ylg89839:***@815fa4db-dc03-4c70-869a-a9cc13f33084.bs2io90l08kqb1od8lcg.databases.appdomain.cloud:30367/BLUDB\n",
      "Done.\n"
     ]
    },
    {
     "data": {
      "text/html": [
       "<table>\n",
       "    <tr>\n",
       "        <th>community_area_number</th>\n",
       "        <th>community_area_name</th>\n",
       "        <th>percent_of_housing_crowded</th>\n",
       "        <th>percent_households_below_poverty</th>\n",
       "        <th>percent_aged_16__unemployed</th>\n",
       "        <th>percent_aged_25__without_high_school_diploma</th>\n",
       "        <th>percent_aged_under_18_or_over_64</th>\n",
       "        <th>per_capita_income</th>\n",
       "        <th>hardship_index</th>\n",
       "    </tr>\n",
       "    <tr>\n",
       "        <td>1</td>\n",
       "        <td>Rogers Park</td>\n",
       "        <td>7.7</td>\n",
       "        <td>23.6</td>\n",
       "        <td>8.7</td>\n",
       "        <td>18.2</td>\n",
       "        <td>27.5</td>\n",
       "        <td>23939</td>\n",
       "        <td>39</td>\n",
       "    </tr>\n",
       "</table>"
      ],
      "text/plain": [
       "[(1, 'Rogers Park', Decimal('7.7'), Decimal('23.6'), Decimal('8.7'), Decimal('18.2'), Decimal('27.5'), 23939, 39)]"
      ]
     },
     "execution_count": 6,
     "metadata": {},
     "output_type": "execute_result"
    }
   ],
   "source": [
    "%%sql\n",
    "select * from CENSUS limit 1"
   ]
  },
  {
   "cell_type": "code",
   "execution_count": 7,
   "id": "37f01deb-d35c-492f-81b2-7841a6964f98",
   "metadata": {},
   "outputs": [
    {
     "name": "stdout",
     "output_type": "stream",
     "text": [
      " * ibm_db_sa://ylg89839:***@815fa4db-dc03-4c70-869a-a9cc13f33084.bs2io90l08kqb1od8lcg.databases.appdomain.cloud:30367/BLUDB\n",
      "Done.\n"
     ]
    },
    {
     "data": {
      "text/html": [
       "<table>\n",
       "    <tr>\n",
       "        <th>id</th>\n",
       "        <th>case_number</th>\n",
       "        <th>DATE</th>\n",
       "        <th>block</th>\n",
       "        <th>iucr</th>\n",
       "        <th>primary_type</th>\n",
       "        <th>description</th>\n",
       "        <th>location_description</th>\n",
       "        <th>arrest</th>\n",
       "        <th>domestic</th>\n",
       "        <th>beat</th>\n",
       "        <th>district</th>\n",
       "        <th>ward</th>\n",
       "        <th>community_area_number</th>\n",
       "        <th>fbicode</th>\n",
       "        <th>x_coordinate</th>\n",
       "        <th>y_coordinate</th>\n",
       "        <th>YEAR</th>\n",
       "        <th>latitude</th>\n",
       "        <th>longitude</th>\n",
       "        <th>location</th>\n",
       "    </tr>\n",
       "    <tr>\n",
       "        <td>3512276</td>\n",
       "        <td>HK587712</td>\n",
       "        <td>2004-08-28</td>\n",
       "        <td>047XX S KEDZIE AVE</td>\n",
       "        <td>890</td>\n",
       "        <td>THEFT</td>\n",
       "        <td>FROM BUILDING</td>\n",
       "        <td>SMALL RETAIL STORE</td>\n",
       "        <td>FALSE</td>\n",
       "        <td>FALSE</td>\n",
       "        <td>911</td>\n",
       "        <td>9</td>\n",
       "        <td>14</td>\n",
       "        <td>58</td>\n",
       "        <td>6</td>\n",
       "        <td>1155838</td>\n",
       "        <td>1873050</td>\n",
       "        <td>2004</td>\n",
       "        <td>41.80744050</td>\n",
       "        <td>-87.70395585</td>\n",
       "        <td>(41.8074405, -87.703955849)</td>\n",
       "    </tr>\n",
       "</table>"
      ],
      "text/plain": [
       "[(3512276, 'HK587712', datetime.date(2004, 8, 28), '047XX S KEDZIE AVE', '890', 'THEFT', 'FROM BUILDING', 'SMALL RETAIL STORE', 'FALSE', 'FALSE', 911, 9, 14, 58, '6', 1155838, 1873050, 2004, Decimal('41.80744050'), Decimal('-87.70395585'), '(41.8074405, -87.703955849)')]"
      ]
     },
     "execution_count": 7,
     "metadata": {},
     "output_type": "execute_result"
    }
   ],
   "source": [
    "%%sql\n",
    "select * from CRIME limit 1"
   ]
  },
  {
   "cell_type": "code",
   "execution_count": 8,
   "id": "dea5ac3b-0ab9-4e3e-a2d7-33a583bc99ac",
   "metadata": {},
   "outputs": [
    {
     "name": "stdout",
     "output_type": "stream",
     "text": [
      " * ibm_db_sa://ylg89839:***@815fa4db-dc03-4c70-869a-a9cc13f33084.bs2io90l08kqb1od8lcg.databases.appdomain.cloud:30367/BLUDB\n",
      "Done.\n"
     ]
    },
    {
     "data": {
      "text/html": [
       "<table>\n",
       "    <tr>\n",
       "        <th>name_of_school</th>\n",
       "        <th>community_area_name</th>\n",
       "        <th>average_student_attendance</th>\n",
       "    </tr>\n",
       "    <tr>\n",
       "        <td>George Washington Carver Military Academy High School</td>\n",
       "        <td>RIVERDALE</td>\n",
       "        <td>91.60%</td>\n",
       "    </tr>\n",
       "    <tr>\n",
       "        <td>George Washington Carver Primary School</td>\n",
       "        <td>RIVERDALE</td>\n",
       "        <td>90.90%</td>\n",
       "    </tr>\n",
       "    <tr>\n",
       "        <td>Ira F Aldridge Elementary School</td>\n",
       "        <td>RIVERDALE</td>\n",
       "        <td>92.90%</td>\n",
       "    </tr>\n",
       "    <tr>\n",
       "        <td>William E B Dubois Elementary School</td>\n",
       "        <td>RIVERDALE</td>\n",
       "        <td>93.30%</td>\n",
       "    </tr>\n",
       "</table>"
      ],
      "text/plain": [
       "[('George Washington Carver Military Academy High School', 'RIVERDALE', '91.60%'),\n",
       " ('George Washington Carver Primary School', 'RIVERDALE', '90.90%'),\n",
       " ('Ira F Aldridge Elementary School', 'RIVERDALE', '92.90%'),\n",
       " ('William E B Dubois Elementary School', 'RIVERDALE', '93.30%')]"
      ]
     },
     "execution_count": 8,
     "metadata": {},
     "output_type": "execute_result"
    }
   ],
   "source": [
    "#Q1: list the school names, community names and average attendance for communities with a hardship index of 98\n",
    "%sql select S.name_of_school, S.community_area_name, S.average_student_attendance\\\n",
    "from SCHOOL S\\\n",
    "LEFT OUTER JOIN CENSUS C\\\n",
    "on S.community_area_number = C.community_area_number\\\n",
    "where C.hardship_index=98;"
   ]
  },
  {
   "cell_type": "code",
   "execution_count": 9,
   "id": "81dfccf6-e62d-44a4-b52a-8502f839bdaa",
   "metadata": {},
   "outputs": [],
   "source": [
    "# Q2: list all crimes that took place at a school. Include case number, crime type and community name."
   ]
  },
  {
   "cell_type": "code",
   "execution_count": 10,
   "id": "d364ca2e-6f1b-4600-b69f-e2acbe65c84e",
   "metadata": {},
   "outputs": [
    {
     "name": "stdout",
     "output_type": "stream",
     "text": [
      " * ibm_db_sa://ylg89839:***@815fa4db-dc03-4c70-869a-a9cc13f33084.bs2io90l08kqb1od8lcg.databases.appdomain.cloud:30367/BLUDB\n",
      "Done.\n"
     ]
    },
    {
     "data": {
      "text/html": [
       "<table>\n",
       "    <tr>\n",
       "        <th>case_number</th>\n",
       "        <th>primary_type</th>\n",
       "        <th>community_area_number</th>\n",
       "    </tr>\n",
       "    <tr>\n",
       "        <td>HL353697</td>\n",
       "        <td>BATTERY</td>\n",
       "        <td>43</td>\n",
       "    </tr>\n",
       "    <tr>\n",
       "        <td>JA460432</td>\n",
       "        <td>BATTERY</td>\n",
       "        <td>70</td>\n",
       "    </tr>\n",
       "    <tr>\n",
       "        <td>JA460432</td>\n",
       "        <td>BATTERY</td>\n",
       "        <td>70</td>\n",
       "    </tr>\n",
       "    <tr>\n",
       "        <td>HH639427</td>\n",
       "        <td>BATTERY</td>\n",
       "        <td>25</td>\n",
       "    </tr>\n",
       "    <tr>\n",
       "        <td>HH639427</td>\n",
       "        <td>BATTERY</td>\n",
       "        <td>25</td>\n",
       "    </tr>\n",
       "</table>"
      ],
      "text/plain": [
       "[('HL353697', 'BATTERY', 43),\n",
       " ('JA460432', 'BATTERY', 70),\n",
       " ('JA460432', 'BATTERY', 70),\n",
       " ('HH639427', 'BATTERY', 25),\n",
       " ('HH639427', 'BATTERY', 25)]"
      ]
     },
     "execution_count": 10,
     "metadata": {},
     "output_type": "execute_result"
    }
   ],
   "source": [
    "%%sql\n",
    "select CR.case_number, CR.primary_type, S.community_area_number\n",
    "from CRIME CR\n",
    "left outer join SCHOOL S\n",
    "on CR.community_area_number = S.community_area_number\n",
    "where CR.location_description like '%SCHOOL%'\n",
    "limit 5;"
   ]
  },
  {
   "cell_type": "code",
   "execution_count": 11,
   "id": "186ea72b-4f05-4422-843c-c3c9f5afa5a0",
   "metadata": {},
   "outputs": [
    {
     "name": "stdout",
     "output_type": "stream",
     "text": [
      " * ibm_db_sa://ylg89839:***@815fa4db-dc03-4c70-869a-a9cc13f33084.bs2io90l08kqb1od8lcg.databases.appdomain.cloud:30367/BLUDB\n",
      "(ibm_db_dbi.ProgrammingError) ibm_db_dbi::ProgrammingError: Statement Execute Failed: [IBM][CLI Driver][DB2/LINUXX8664] SQL0104N  An unexpected token \"DROP VIEW VIEW_1\" was found following \"BEGIN-OF-STATEMENT\".  Expected tokens may include:  \"<space>\".  SQLSTATE=42601\\r SQLCODE=-104\n",
      "[SQL: DROP VIEW VIEW_1 CREATE VIEW VIEW_1 AS\n",
      "SELECT name_of_school as \"School_Name\", \n",
      "safety_icon as \"Safety_Rating\",\n",
      "family_involvement_icon as \"Family_Rating\", \n",
      "environment_icon as \"Environment_Rating\",\n",
      "instruction_icon as \"Instruction_Rating\",\n",
      "leaders_icon as \"Leaders_Rating\",\n",
      "teachers_icon as \"Teachers_Rating\"\n",
      "from SCHOOL;]\n",
      "(Background on this error at: http://sqlalche.me/e/f405)\n"
     ]
    }
   ],
   "source": [
    "%%sql\n",
    "DROP VIEW VIEW_1\n",
    "CREATE VIEW VIEW_1 AS\n",
    "SELECT name_of_school as \"School_Name\", \n",
    "safety_icon as \"Safety_Rating\",\n",
    "family_involvement_icon as \"Family_Rating\", \n",
    "environment_icon as \"Environment_Rating\",\n",
    "instruction_icon as \"Instruction_Rating\",\n",
    "leaders_icon as \"Leaders_Rating\",\n",
    "teachers_icon as \"Teachers_Rating\"\n",
    "from SCHOOL;"
   ]
  },
  {
   "cell_type": "code",
   "execution_count": null,
   "id": "ab6417e6-a763-44a5-ac43-250a143d5a69",
   "metadata": {},
   "outputs": [
    {
     "name": "stdout",
     "output_type": "stream",
     "text": [
      " * ibm_db_sa://ylg89839:***@815fa4db-dc03-4c70-869a-a9cc13f33084.bs2io90l08kqb1od8lcg.databases.appdomain.cloud:30367/BLUDB\n"
     ]
    }
   ],
   "source": [
    "%%sql\n",
    "select * from VIEW_1"
   ]
  },
  {
   "cell_type": "code",
   "execution_count": null,
   "id": "ccc45318-dd35-4850-bd9e-7aa5c85a8499",
   "metadata": {},
   "outputs": [],
   "source": [
    "%%sql\n",
    "select School_Name, Leaders_Rating from VIEW_1"
   ]
  },
  {
   "cell_type": "code",
   "execution_count": null,
   "id": "f85bc2ad-e7df-4e75-8ef5-76652e177cf6",
   "metadata": {},
   "outputs": [],
   "source": [
    "#3 to create or replace a stored procedure called UPDATE_LEADERS_SCORE that takes a in_School_ID parameter as an integer and a in_Leader_Score parameter as an integer. Don't forget to use the #SET TERMINATOR statement to use the @ for the CREATE statement terminator"
   ]
  },
  {
   "cell_type": "code",
   "execution_count": null,
   "id": "13fba7e0-fe1d-4c1e-9e19-ec9001b9aacc",
   "metadata": {},
   "outputs": [],
   "source": []
  },
  {
   "cell_type": "code",
   "execution_count": null,
   "id": "95e40e72-5fa2-464c-8cbd-d064693dd770",
   "metadata": {},
   "outputs": [],
   "source": []
  },
  {
   "cell_type": "code",
   "execution_count": null,
   "id": "5f34b86d-dcbf-4f3d-8920-674399b2e44d",
   "metadata": {},
   "outputs": [],
   "source": []
  },
  {
   "cell_type": "code",
   "execution_count": null,
   "id": "0c3f6016-4de6-4ddf-b2fb-a40b1dd204ea",
   "metadata": {},
   "outputs": [],
   "source": []
  },
  {
   "cell_type": "code",
   "execution_count": null,
   "id": "6c00b716-704b-4790-804f-64f0e0edb01e",
   "metadata": {},
   "outputs": [],
   "source": []
  },
  {
   "cell_type": "code",
   "execution_count": null,
   "id": "d6340027-f4a1-4ead-bfc8-3ed1964a0f16",
   "metadata": {},
   "outputs": [],
   "source": []
  },
  {
   "cell_type": "code",
   "execution_count": null,
   "id": "42969f4b-c737-432d-bbc8-013142cc7b6a",
   "metadata": {},
   "outputs": [],
   "source": []
  },
  {
   "cell_type": "code",
   "execution_count": null,
   "id": "917efe72-a304-4c78-b86e-b19bb38c37d6",
   "metadata": {},
   "outputs": [],
   "source": []
  },
  {
   "cell_type": "code",
   "execution_count": null,
   "id": "92a10d7d-050a-4fcd-9240-3c405721c388",
   "metadata": {},
   "outputs": [],
   "source": []
  },
  {
   "cell_type": "code",
   "execution_count": null,
   "id": "2803e9fd-cd33-4562-91f5-8ab59b5703ba",
   "metadata": {},
   "outputs": [],
   "source": []
  },
  {
   "cell_type": "code",
   "execution_count": null,
   "id": "b40acbf6-2435-49ea-a321-287768eb3239",
   "metadata": {},
   "outputs": [],
   "source": []
  }
 ],
 "metadata": {
  "kernelspec": {
   "display_name": "Python [conda env:IBM_SQL_DB_for_DS]",
   "language": "python",
   "name": "conda-env-IBM_SQL_DB_for_DS-py"
  },
  "language_info": {
   "codemirror_mode": {
    "name": "ipython",
    "version": 3
   },
   "file_extension": ".py",
   "mimetype": "text/x-python",
   "name": "python",
   "nbconvert_exporter": "python",
   "pygments_lexer": "ipython3",
   "version": "3.9.7"
  }
 },
 "nbformat": 4,
 "nbformat_minor": 5
}
